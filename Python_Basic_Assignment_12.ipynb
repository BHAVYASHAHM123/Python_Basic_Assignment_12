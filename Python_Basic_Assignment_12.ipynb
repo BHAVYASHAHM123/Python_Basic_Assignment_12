{
 "cells": [
  {
   "cell_type": "markdown",
   "id": "d42e6326",
   "metadata": {},
   "source": [
    "Q1). In what modes should the PdfFileReader() and PdfFileWriter() File objects will be opened?\n",
    "\n",
    "Ans) Read-binary ('rb') for PdfFileReader() and write-binary ('wb') for PdfFileWriter()"
   ]
  },
  {
   "cell_type": "markdown",
   "id": "f1b37d36",
   "metadata": {},
   "source": [
    "Q2). From a PdfFileReader object, how do you get a Page object for page 5?\n",
    "\n",
    "Ans) Calling getPage(4) will return a Page object for page 5, since page 0 is the first page."
   ]
  },
  {
   "cell_type": "markdown",
   "id": "690d21f5",
   "metadata": {},
   "source": [
    "Q3). What PdfFileReader variable stores the number of pages in the PDF document?\n",
    "\n",
    "Ans) The numPages variable stores an integer of the number of pages in the PdfFileReader object."
   ]
  },
  {
   "cell_type": "markdown",
   "id": "0bf6450a",
   "metadata": {},
   "source": [
    "Q4). If a PdfFileReader object’s PDF is encrypted with the password swordfish, what must you do before you can obtain Page objects from it?\n",
    "\n",
    "Ans) Call decrypt('swordfish')"
   ]
  },
  {
   "cell_type": "markdown",
   "id": "924b5728",
   "metadata": {},
   "source": [
    "Q5). What methods do you use to rotate a page?\n",
    "\n",
    "Ans) The rotateClockwise() and rotateCounterClockwise() methods. The degrees to rotate is passed as an integer argument."
   ]
  },
  {
   "cell_type": "markdown",
   "id": "10c7b1c4",
   "metadata": {},
   "source": [
    "Q6). What is the difference between a Run object and a Paragraph object?\n",
    "\n",
    "Ans) A document contains multiple paragraphs. A paragraph begins on a new line and contains multiple runs. Runs are contiguous groups of characters within a paragraph."
   ]
  },
  {
   "cell_type": "markdown",
   "id": "0d516b17",
   "metadata": {},
   "source": [
    "Q7). How do you obtain a list of Paragraph objects for a Document object that’s stored in a variable named doc?\n",
    "\n",
    "Ans) Use doc.paragraphs."
   ]
  },
  {
   "cell_type": "markdown",
   "id": "016a8054",
   "metadata": {},
   "source": [
    "Q8). What type of object has bold, underline, italic, strike, and outline variables?\n",
    "\n",
    "Ans) A Run object has these variables (not a Paragraph)."
   ]
  },
  {
   "cell_type": "markdown",
   "id": "73de9dbb",
   "metadata": {},
   "source": [
    "Q9). What is the difference between False, True, and None for the bold variable?\n",
    "\n",
    "Ans) True always makes the Run object bolded and False makes it always not bolded, no matter what the style’s bold setting is. None will make the Run object just use the style’s bold setting"
   ]
  },
  {
   "cell_type": "markdown",
   "id": "480b25c9",
   "metadata": {},
   "source": [
    "Q10). How do you create a Document object for a new Word document?\n",
    "\n",
    "Ans) Call the docx.Document() function."
   ]
  },
  {
   "cell_type": "markdown",
   "id": "92efdd31",
   "metadata": {},
   "source": [
    "Q11). How do you add a paragraph with the text 'Hello, there!' to a Document object stored in a variable named doc?\n",
    "\n",
    "Ans) doc.add_paragraph('Hello there!')"
   ]
  },
  {
   "cell_type": "markdown",
   "id": "9f6354fc",
   "metadata": {},
   "source": [
    "Q12. What integers represent the levels of headings available in Word documents?\n",
    "\n",
    "Ans) The integers 0, 1, 2, 3, and 4"
   ]
  },
  {
   "cell_type": "code",
   "execution_count": null,
   "id": "e308815e",
   "metadata": {},
   "outputs": [],
   "source": []
  }
 ],
 "metadata": {
  "kernelspec": {
   "display_name": "Python 3 (ipykernel)",
   "language": "python",
   "name": "python3"
  },
  "language_info": {
   "codemirror_mode": {
    "name": "ipython",
    "version": 3
   },
   "file_extension": ".py",
   "mimetype": "text/x-python",
   "name": "python",
   "nbconvert_exporter": "python",
   "pygments_lexer": "ipython3",
   "version": "3.9.7"
  }
 },
 "nbformat": 4,
 "nbformat_minor": 5
}
